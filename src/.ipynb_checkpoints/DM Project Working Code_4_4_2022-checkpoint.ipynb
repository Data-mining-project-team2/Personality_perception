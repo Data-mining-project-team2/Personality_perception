{
 "cells": [
  {
   "cell_type": "code",
   "execution_count": 2,
   "id": "68dfa90a",
   "metadata": {},
   "outputs": [
    {
     "data": {
      "text/html": [
       "<div>\n",
       "<style scoped>\n",
       "    .dataframe tbody tr th:only-of-type {\n",
       "        vertical-align: middle;\n",
       "    }\n",
       "\n",
       "    .dataframe tbody tr th {\n",
       "        vertical-align: top;\n",
       "    }\n",
       "\n",
       "    .dataframe thead th {\n",
       "        text-align: right;\n",
       "    }\n",
       "</style>\n",
       "<table border=\"1\" class=\"dataframe\">\n",
       "  <thead>\n",
       "    <tr style=\"text-align: right;\">\n",
       "      <th></th>\n",
       "      <th>Name</th>\n",
       "      <th>Tweets</th>\n",
       "    </tr>\n",
       "  </thead>\n",
       "  <tbody>\n",
       "    <tr>\n",
       "      <th>0</th>\n",
       "      <td>NobodyAndNoOne7</td>\n",
       "      <td>IMEGAArts sjwjubilee Synova CodeENSH jeremyusa...</td>\n",
       "    </tr>\n",
       "    <tr>\n",
       "      <th>1</th>\n",
       "      <td>AniKpopTrash</td>\n",
       "      <td>RT WoodenPlank Mr Arts amp Crafts\\n\\nsmashbros...</td>\n",
       "    </tr>\n",
       "    <tr>\n",
       "      <th>2</th>\n",
       "      <td>PrangeMartin</td>\n",
       "      <td>RT Ranjandatta Happening today at PM MST Join ...</td>\n",
       "    </tr>\n",
       "    <tr>\n",
       "      <th>3</th>\n",
       "      <td>ok4arts</td>\n",
       "      <td>LeadershipArts alumns be sure to register for ...</td>\n",
       "    </tr>\n",
       "    <tr>\n",
       "      <th>4</th>\n",
       "      <td>HESSPLASH</td>\n",
       "      <td>RT ocsculturalarts Today on Day  of Arts in Ed...</td>\n",
       "    </tr>\n",
       "    <tr>\n",
       "      <th>...</th>\n",
       "      <td>...</td>\n",
       "      <td>...</td>\n",
       "    </tr>\n",
       "    <tr>\n",
       "      <th>162</th>\n",
       "      <td>BKieltArtist</td>\n",
       "      <td>StudioShot  Art Painting ArtsNI visualart Work...</td>\n",
       "    </tr>\n",
       "    <tr>\n",
       "      <th>163</th>\n",
       "      <td>BKieltArtist</td>\n",
       "      <td>History Repeating Oil Charcoal and Photo Trans...</td>\n",
       "    </tr>\n",
       "    <tr>\n",
       "      <th>164</th>\n",
       "      <td>BKieltArtist</td>\n",
       "      <td>RDH  MAY  Blog May VisualArt ArtsNI Painting  ...</td>\n",
       "    </tr>\n",
       "    <tr>\n",
       "      <th>165</th>\n",
       "      <td>BKieltArtist</td>\n",
       "      <td>Working on figures today Art ArtsNI VisualArt ...</td>\n",
       "    </tr>\n",
       "    <tr>\n",
       "      <th>166</th>\n",
       "      <td>BKieltArtist</td>\n",
       "      <td>RT PaintingText New interview with the painter...</td>\n",
       "    </tr>\n",
       "  </tbody>\n",
       "</table>\n",
       "<p>167 rows × 2 columns</p>\n",
       "</div>"
      ],
      "text/plain": [
       "                Name                                             Tweets\n",
       "0    NobodyAndNoOne7  IMEGAArts sjwjubilee Synova CodeENSH jeremyusa...\n",
       "1       AniKpopTrash  RT WoodenPlank Mr Arts amp Crafts\\n\\nsmashbros...\n",
       "2       PrangeMartin  RT Ranjandatta Happening today at PM MST Join ...\n",
       "3            ok4arts  LeadershipArts alumns be sure to register for ...\n",
       "4          HESSPLASH  RT ocsculturalarts Today on Day  of Arts in Ed...\n",
       "..               ...                                                ...\n",
       "162     BKieltArtist  StudioShot  Art Painting ArtsNI visualart Work...\n",
       "163     BKieltArtist  History Repeating Oil Charcoal and Photo Trans...\n",
       "164     BKieltArtist  RDH  MAY  Blog May VisualArt ArtsNI Painting  ...\n",
       "165     BKieltArtist  Working on figures today Art ArtsNI VisualArt ...\n",
       "166     BKieltArtist  RT PaintingText New interview with the painter...\n",
       "\n",
       "[167 rows x 2 columns]"
      ]
     },
     "execution_count": 2,
     "metadata": {},
     "output_type": "execute_result"
    }
   ],
   "source": [
    "# Read the first set of data from Arts and Painting category\n",
    "\n",
    "import pandas as pd\n",
    "\n",
    "df = pd.read_csv('C:\\\\Users\\\\vinu1\\\\Personality_perception\\\\data\\\\master_data_03_16.csv')\n",
    "df.drop(['Unnamed: 0', 'Index',  \n",
    "                'Location', 'Subcategory',\n",
    "       'Unnamed: 5'], axis=1, inplace=True)\n",
    "df"
   ]
  },
  {
   "cell_type": "code",
   "execution_count": 7,
   "id": "ed8115c2",
   "metadata": {},
   "outputs": [
    {
     "name": "stderr",
     "output_type": "stream",
     "text": [
      "[nltk_data] Downloading package stopwords to\n",
      "[nltk_data]     C:\\Users\\vinu1\\AppData\\Roaming\\nltk_data...\n",
      "[nltk_data]   Package stopwords is already up-to-date!\n",
      "[nltk_data] Downloading package punkt to\n",
      "[nltk_data]     C:\\Users\\vinu1\\AppData\\Roaming\\nltk_data...\n",
      "[nltk_data]   Package punkt is already up-to-date!\n"
     ]
    }
   ],
   "source": [
    "# Creating cleaned Corpus , Corpus is a collection of text organized into datasets\n",
    "# Stop words are commonly used in Text Mining and Natural Language Processing (NLP) to \n",
    "# eliminate words that are so commonly used that they carry very little useful information.\n",
    "# nltk - natural language toolkit\n",
    "# Punkt Sentence Tokenizer. This tokenizer divides a text into a list of sentences by using an unsupervised algorithm\n",
    "# word tokenization is splitting the phrases, sentences into smaller units such as words\n",
    "\n",
    "import nltk\n",
    "nltk.download('stopwords')\n",
    "from nltk.corpus import stopwords\n",
    "from nltk.tokenize import word_tokenize\n",
    "nltk.download('punkt')\n",
    "#print(stopwords.words('english'))\n",
    " \n",
    "stop_words = set(stopwords.words('english'))\n",
    "\n",
    "#stop_words\n"
   ]
  },
  {
   "cell_type": "code",
   "execution_count": 73,
   "id": "9f58c63d",
   "metadata": {},
   "outputs": [
    {
     "data": {
      "text/plain": [
       "'RT ocsculturalarts Today on Day  of Arts in Education Month we celebrate the Music Program of Hillsborough Elementary School Check out'"
      ]
     },
     "execution_count": 73,
     "metadata": {},
     "output_type": "execute_result"
    }
   ],
   "source": [
    "# subset a df with tweets only to get the tokens further\n",
    "\n",
    "df_tweets = df[['Tweets']]\n"
   ]
  },
  {
   "cell_type": "code",
   "execution_count": 71,
   "id": "8b65bcde",
   "metadata": {},
   "outputs": [
    {
     "data": {
      "text/plain": [
       "'RT Ranjandatta Happening today at PM MST Join here httpstcozuyvvUWjnX \\nMRUArts presents the  Distinguished Speaker D'"
      ]
     },
     "execution_count": 71,
     "metadata": {},
     "output_type": "execute_result"
    }
   ],
   "source": []
  },
  {
   "cell_type": "code",
   "execution_count": null,
   "id": "7f381aaf",
   "metadata": {},
   "outputs": [],
   "source": []
  },
  {
   "cell_type": "code",
   "execution_count": 39,
   "id": "88482dca",
   "metadata": {},
   "outputs": [
    {
     "name": "stderr",
     "output_type": "stream",
     "text": [
      "[nltk_data] Downloading package punkt to\n",
      "[nltk_data]     C:\\Users\\vinu1\\AppData\\Roaming\\nltk_data...\n",
      "[nltk_data]   Package punkt is already up-to-date!\n"
     ]
    },
    {
     "data": {
      "text/plain": [
       "50"
      ]
     },
     "execution_count": 39,
     "metadata": {},
     "output_type": "execute_result"
    }
   ],
   "source": [
    "# Tokenize the words\n",
    "\n",
    "import nltk\n",
    "from nltk.corpus import stopwords\n",
    "nltk.download('punkt')\n",
    "\n",
    "stop_words = set(stopwords.words('english'))\n",
    "# word_tokens = word_tokenize(example_sent)\n",
    "\n",
    "df_tweets = df[\"Tweets\"]\n",
    "word_token_list = []\n",
    "filtered_tweet = []\n",
    "\n",
    "for i in range(len(df_tweets.index)):\n",
    "#     print(df_tweets[i])\n",
    "    word_token = word_tokenize(df_tweets[i])\n",
    "    #print(word_token)\n",
    "    word_token_list.append(word_token)\n",
    "    \n",
    "\n",
    "len(word_token_list[0])"
   ]
  },
  {
   "cell_type": "code",
   "execution_count": 75,
   "id": "9a6ca650",
   "metadata": {},
   "outputs": [
    {
     "data": {
      "text/html": [
       "<div>\n",
       "<style scoped>\n",
       "    .dataframe tbody tr th:only-of-type {\n",
       "        vertical-align: middle;\n",
       "    }\n",
       "\n",
       "    .dataframe tbody tr th {\n",
       "        vertical-align: top;\n",
       "    }\n",
       "\n",
       "    .dataframe thead th {\n",
       "        text-align: right;\n",
       "    }\n",
       "</style>\n",
       "<table border=\"1\" class=\"dataframe\">\n",
       "  <thead>\n",
       "    <tr style=\"text-align: right;\">\n",
       "      <th></th>\n",
       "      <th>Name</th>\n",
       "      <th>Tweets</th>\n",
       "      <th>tweets_without_stopwords</th>\n",
       "    </tr>\n",
       "  </thead>\n",
       "  <tbody>\n",
       "    <tr>\n",
       "      <th>0</th>\n",
       "      <td>NobodyAndNoOne7</td>\n",
       "      <td>IMEGAArts sjwjubilee Synova CodeENSH jeremyusa...</td>\n",
       "      <td>imegaarts sjwjubilee synova codeensh jeremyusa...</td>\n",
       "    </tr>\n",
       "    <tr>\n",
       "      <th>1</th>\n",
       "      <td>AniKpopTrash</td>\n",
       "      <td>RT WoodenPlank Mr Arts amp Crafts\\n\\nsmashbros...</td>\n",
       "      <td>rt woodenplank mr arts amp crafts smashbros sm...</td>\n",
       "    </tr>\n",
       "    <tr>\n",
       "      <th>2</th>\n",
       "      <td>PrangeMartin</td>\n",
       "      <td>RT Ranjandatta Happening today at PM MST Join ...</td>\n",
       "      <td>rt ranjandatta happening today pm mst join htt...</td>\n",
       "    </tr>\n",
       "    <tr>\n",
       "      <th>3</th>\n",
       "      <td>ok4arts</td>\n",
       "      <td>LeadershipArts alumns be sure to register for ...</td>\n",
       "      <td>leadershiparts alumns sure register arts amp c...</td>\n",
       "    </tr>\n",
       "    <tr>\n",
       "      <th>4</th>\n",
       "      <td>HESSPLASH</td>\n",
       "      <td>RT ocsculturalarts Today on Day  of Arts in Ed...</td>\n",
       "      <td>rt ocsculturalarts today day arts education mo...</td>\n",
       "    </tr>\n",
       "    <tr>\n",
       "      <th>...</th>\n",
       "      <td>...</td>\n",
       "      <td>...</td>\n",
       "      <td>...</td>\n",
       "    </tr>\n",
       "    <tr>\n",
       "      <th>162</th>\n",
       "      <td>BKieltArtist</td>\n",
       "      <td>StudioShot  Art Painting ArtsNI visualart Work...</td>\n",
       "      <td>studioshot art painting artsni visualart worki...</td>\n",
       "    </tr>\n",
       "    <tr>\n",
       "      <th>163</th>\n",
       "      <td>BKieltArtist</td>\n",
       "      <td>History Repeating Oil Charcoal and Photo Trans...</td>\n",
       "      <td>history repeating oil charcoal photo transfer ...</td>\n",
       "    </tr>\n",
       "    <tr>\n",
       "      <th>164</th>\n",
       "      <td>BKieltArtist</td>\n",
       "      <td>RDH  MAY  Blog May VisualArt ArtsNI Painting  ...</td>\n",
       "      <td>rdh may blog may visualart artsni painting htt...</td>\n",
       "    </tr>\n",
       "    <tr>\n",
       "      <th>165</th>\n",
       "      <td>BKieltArtist</td>\n",
       "      <td>Working on figures today Art ArtsNI VisualArt ...</td>\n",
       "      <td>working figures today art artsni visualart pai...</td>\n",
       "    </tr>\n",
       "    <tr>\n",
       "      <th>166</th>\n",
       "      <td>BKieltArtist</td>\n",
       "      <td>RT PaintingText New interview with the painter...</td>\n",
       "      <td>rt paintingtext new interview painter shane be...</td>\n",
       "    </tr>\n",
       "  </tbody>\n",
       "</table>\n",
       "<p>167 rows × 3 columns</p>\n",
       "</div>"
      ],
      "text/plain": [
       "                Name                                             Tweets  \\\n",
       "0    NobodyAndNoOne7  IMEGAArts sjwjubilee Synova CodeENSH jeremyusa...   \n",
       "1       AniKpopTrash  RT WoodenPlank Mr Arts amp Crafts\\n\\nsmashbros...   \n",
       "2       PrangeMartin  RT Ranjandatta Happening today at PM MST Join ...   \n",
       "3            ok4arts  LeadershipArts alumns be sure to register for ...   \n",
       "4          HESSPLASH  RT ocsculturalarts Today on Day  of Arts in Ed...   \n",
       "..               ...                                                ...   \n",
       "162     BKieltArtist  StudioShot  Art Painting ArtsNI visualart Work...   \n",
       "163     BKieltArtist  History Repeating Oil Charcoal and Photo Trans...   \n",
       "164     BKieltArtist  RDH  MAY  Blog May VisualArt ArtsNI Painting  ...   \n",
       "165     BKieltArtist  Working on figures today Art ArtsNI VisualArt ...   \n",
       "166     BKieltArtist  RT PaintingText New interview with the painter...   \n",
       "\n",
       "                              tweets_without_stopwords  \n",
       "0    imegaarts sjwjubilee synova codeensh jeremyusa...  \n",
       "1    rt woodenplank mr arts amp crafts smashbros sm...  \n",
       "2    rt ranjandatta happening today pm mst join htt...  \n",
       "3    leadershiparts alumns sure register arts amp c...  \n",
       "4    rt ocsculturalarts today day arts education mo...  \n",
       "..                                                 ...  \n",
       "162  studioshot art painting artsni visualart worki...  \n",
       "163  history repeating oil charcoal photo transfer ...  \n",
       "164  rdh may blog may visualart artsni painting htt...  \n",
       "165  working figures today art artsni visualart pai...  \n",
       "166  rt paintingtext new interview painter shane be...  \n",
       "\n",
       "[167 rows x 3 columns]"
      ]
     },
     "execution_count": 75,
     "metadata": {},
     "output_type": "execute_result"
    }
   ],
   "source": [
    "# adding the tokenized list to a dataframe\n",
    "from nltk.corpus import stopwords\n",
    "stop = stopwords.words('english')\n",
    "\n",
    "df['tweets_without_stopwords'] = df['Tweets'].apply(lambda x: ' '.join([word.lower() for word in x.split() if word not in (stop)]))\n",
    "df.head()\n",
    "test = []\n",
    "for word in df['tweets_without_stopwords'][166].split():\n",
    "    test.append(word)\n",
    "#test\n",
    "df_tweets['Tweets'][4]"
   ]
  },
  {
   "cell_type": "code",
   "execution_count": 80,
   "id": "4dc36fae",
   "metadata": {},
   "outputs": [
    {
     "data": {
      "text/plain": [
       "'rt ranjandatta happening today pm mst join httpstcozuyvvuwjnx mruarts presents distinguished speaker d'"
      ]
     },
     "execution_count": 80,
     "metadata": {},
     "output_type": "execute_result"
    }
   ],
   "source": [
    "df['tweets_without_stopwords'][2]"
   ]
  },
  {
   "cell_type": "code",
   "execution_count": 82,
   "id": "2d7820ef",
   "metadata": {},
   "outputs": [
    {
     "data": {
      "text/plain": [
       "'leadershiparts alumns sure register arts amp culture day register httpstcodanpjqqium httpstcopnxlvqtuj'"
      ]
     },
     "execution_count": 82,
     "metadata": {},
     "output_type": "execute_result"
    }
   ],
   "source": [
    "df['tweets_without_stopwords'][3]"
   ]
  },
  {
   "cell_type": "code",
   "execution_count": 81,
   "id": "0f1b79b0",
   "metadata": {},
   "outputs": [
    {
     "data": {
      "text/plain": [
       "'rt ocsculturalarts today day arts education month celebrate music program hillsborough elementary school check'"
      ]
     },
     "execution_count": 81,
     "metadata": {},
     "output_type": "execute_result"
    }
   ],
   "source": [
    "df['tweets_without_stopwords'][4]"
   ]
  },
  {
   "cell_type": "code",
   "execution_count": 90,
   "id": "a6f9d6cb",
   "metadata": {},
   "outputs": [
    {
     "data": {
      "text/html": [
       "<div>\n",
       "<style scoped>\n",
       "    .dataframe tbody tr th:only-of-type {\n",
       "        vertical-align: middle;\n",
       "    }\n",
       "\n",
       "    .dataframe tbody tr th {\n",
       "        vertical-align: top;\n",
       "    }\n",
       "\n",
       "    .dataframe thead th {\n",
       "        text-align: right;\n",
       "    }\n",
       "</style>\n",
       "<table border=\"1\" class=\"dataframe\">\n",
       "  <thead>\n",
       "    <tr style=\"text-align: right;\">\n",
       "      <th></th>\n",
       "      <th>Name</th>\n",
       "      <th>Tweets</th>\n",
       "      <th>tweets_without_stopwords</th>\n",
       "    </tr>\n",
       "  </thead>\n",
       "  <tbody>\n",
       "    <tr>\n",
       "      <th>2</th>\n",
       "      <td>PrangeMartin</td>\n",
       "      <td>RT Ranjandatta Happening today at PM MST Join ...</td>\n",
       "      <td>rt ranjandatta happening today pm mst join htt...</td>\n",
       "    </tr>\n",
       "    <tr>\n",
       "      <th>3</th>\n",
       "      <td>ok4arts</td>\n",
       "      <td>LeadershipArts alumns be sure to register for ...</td>\n",
       "      <td>leadershiparts alumns sure register arts amp c...</td>\n",
       "    </tr>\n",
       "    <tr>\n",
       "      <th>4</th>\n",
       "      <td>HESSPLASH</td>\n",
       "      <td>RT ocsculturalarts Today on Day  of Arts in Ed...</td>\n",
       "      <td>rt ocsculturalarts today day arts education mo...</td>\n",
       "    </tr>\n",
       "  </tbody>\n",
       "</table>\n",
       "</div>"
      ],
      "text/plain": [
       "           Name                                             Tweets  \\\n",
       "2  PrangeMartin  RT Ranjandatta Happening today at PM MST Join ...   \n",
       "3       ok4arts  LeadershipArts alumns be sure to register for ...   \n",
       "4     HESSPLASH  RT ocsculturalarts Today on Day  of Arts in Ed...   \n",
       "\n",
       "                            tweets_without_stopwords  \n",
       "2  rt ranjandatta happening today pm mst join htt...  \n",
       "3  leadershiparts alumns sure register arts amp c...  \n",
       "4  rt ocsculturalarts today day arts education mo...  "
      ]
     },
     "execution_count": 90,
     "metadata": {},
     "output_type": "execute_result"
    }
   ],
   "source": [
    "df2 = df.iloc[2:5,0:3]\n",
    "df2"
   ]
  },
  {
   "cell_type": "code",
   "execution_count": 107,
   "id": "99a6051e",
   "metadata": {},
   "outputs": [
    {
     "data": {
      "text/plain": [
       "array([[0.        , 0.        , 0.        , 0.        , 0.        ,\n",
       "        0.        , 0.        , 0.29938511, 0.        , 0.        ,\n",
       "        0.29938511, 0.        , 0.        , 0.        , 0.29938511,\n",
       "        0.29938511, 0.        , 0.        , 0.29938511, 0.29938511,\n",
       "        0.        , 0.        , 0.29938511, 0.29938511, 0.        ,\n",
       "        0.29938511, 0.        , 0.22769009, 0.        , 0.29938511,\n",
       "        0.        , 0.22769009],\n",
       "       [0.28680742, 0.28680742, 0.21812444, 0.        , 0.        ,\n",
       "        0.28680742, 0.21812444, 0.        , 0.        , 0.        ,\n",
       "        0.        , 0.        , 0.28680742, 0.28680742, 0.        ,\n",
       "        0.        , 0.28680742, 0.        , 0.        , 0.        ,\n",
       "        0.        , 0.        , 0.        , 0.        , 0.        ,\n",
       "        0.        , 0.57361484, 0.        , 0.        , 0.        ,\n",
       "        0.28680742, 0.        ],\n",
       "       [0.        , 0.        , 0.21673121, 0.2849755 , 0.2849755 ,\n",
       "        0.        , 0.21673121, 0.        , 0.2849755 , 0.2849755 ,\n",
       "        0.        , 0.2849755 , 0.        , 0.        , 0.        ,\n",
       "        0.        , 0.        , 0.2849755 , 0.        , 0.        ,\n",
       "        0.2849755 , 0.2849755 , 0.        , 0.        , 0.2849755 ,\n",
       "        0.        , 0.        , 0.21673121, 0.2849755 , 0.        ,\n",
       "        0.        , 0.21673121]])"
      ]
     },
     "execution_count": 107,
     "metadata": {},
     "output_type": "execute_result"
    }
   ],
   "source": [
    "\n",
    "obj = TfidfVectorizer(analyzer='word')\n",
    "# post_final_features = obj.fit_transform(df2['tweets_without_stopwords'])\n",
    "# print(post_final_features)\n",
    "X = obj.fit_transform(df2['tweets_without_stopwords'])\n",
    "obj.get_feature_names_out()\n",
    "# print(X.shape)\n",
    "X.toarray()"
   ]
  },
  {
   "cell_type": "code",
   "execution_count": null,
   "id": "e6f1ece6",
   "metadata": {},
   "outputs": [],
   "source": []
  },
  {
   "cell_type": "code",
   "execution_count": null,
   "id": "88311cf0",
   "metadata": {},
   "outputs": [],
   "source": [
    "+"
   ]
  }
 ],
 "metadata": {
  "kernelspec": {
   "display_name": "Python 3 (ipykernel)",
   "language": "python",
   "name": "python3"
  },
  "language_info": {
   "codemirror_mode": {
    "name": "ipython",
    "version": 3
   },
   "file_extension": ".py",
   "mimetype": "text/x-python",
   "name": "python",
   "nbconvert_exporter": "python",
   "pygments_lexer": "ipython3",
   "version": "3.9.7"
  }
 },
 "nbformat": 4,
 "nbformat_minor": 5
}
