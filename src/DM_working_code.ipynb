{
 "cells": [
  {
   "cell_type": "code",
   "execution_count": null,
   "id": "6908d5fd",
   "metadata": {},
   "outputs": [],
   "source": [
    "###Imports"
   ]
  },
  {
   "cell_type": "code",
   "execution_count": null,
   "id": "b2d9a0b7",
   "metadata": {},
   "outputs": [],
   "source": [
    "class CleanData:\n",
    "    def read_persona_dict():\n",
    "        pass\n",
    "    def pre_processing_dictionary():\n",
    "        pass\n",
    "    def pre_processing_dataframe():\n",
    "        pass\n",
    "    def get_persona_scores():\n",
    "        pass\n",
    "    def get_sentiment_score():\n",
    "        pass\n",
    "\n",
    "\n",
    "clean_data = CleanData()\n",
    "Personality = ['Openness', 'Agreeableness']\n",
    "clean_data.read_persona_dict()\n",
    "clean_data.pre_processing_dictionary()\n",
    "clean_data.pre_processing_dataframe()\n",
    "clean_data.get_persona_scores()\n",
    "clean_data.get_sentiment_score()"
   ]
  },
  {
   "cell_type": "code",
   "execution_count": 10,
   "id": "d6a0ce7f",
   "metadata": {},
   "outputs": [
    {
     "data": {
      "text/plain": [
       "['#artgallery,',\n",
       " '#artnews,',\n",
       " '#artinfo,',\n",
       " '#painting,',\n",
       " '#photo,',\n",
       " '#openaccessarticle,',\n",
       " '#openscience,',\n",
       " '#access,',\n",
       " '#issue,',\n",
       " '#journals,',\n",
       " '#papers,',\n",
       " '#scienceopen,',\n",
       " '#photography,',\n",
       " '#abstract,',\n",
       " '#acrylic,',\n",
       " '#watercolor,',\n",
       " '#music,',\n",
       " '#video,',\n",
       " '#musiclove,',\n",
       " '#newmusic,',\n",
       " '#nowplaying,',\n",
       " '#radio,',\n",
       " '#live,',\n",
       " '#apple,',\n",
       " '#life,',\n",
       " '#hiphop,',\n",
       " '#artist,',\n",
       " '#musicartist,',\n",
       " '#rock,',\n",
       " '#music,',\n",
       " '#musician,',\n",
       " '#musicians,',\n",
       " '#musicproducer,',\n",
       " '#musicvideo,',\n",
       " '#musicman,',\n",
       " '#musicismylife,',\n",
       " '#musicianlife,',\n",
       " '#musicmonday,',\n",
       " '#musicstudio,',\n",
       " '#soundcloud,',\n",
       " '#podcast,',\n",
       " '#spotify,',\n",
       " '#applemusic,',\n",
       " '#tidal,',\n",
       " '#musicstreaming,',\n",
       " '#itunes,',\n",
       " '#AmWriting,',\n",
       " '#WritersLife,',\n",
       " '#WriterWednesday,',\n",
       " '#WriteTip,',\n",
       " '#WordCount,',\n",
       " '#FollowFriday,',\n",
       " '#FridayReads,',\n",
       " '#WritingPrompt,',\n",
       " '#BookGiveaway,',\n",
       " '#TuesdayMotivation,',\n",
       " '#CharityTuesday,',\n",
       " '#TravelTuesday,',\n",
       " '#TuesdayThoughts,',\n",
       " '#SampleSunday,',\n",
       " '#meme,',\n",
       " '#usa,',\n",
       " '#freedom,',\n",
       " '#america,',\n",
       " '#open,',\n",
       " '#openness,',\n",
       " '#argentina,',\n",
       " '#news,',\n",
       " '#power,',\n",
       " '#blacklivesmatter,',\n",
       " '#trump,',\n",
       " '#covid,',\n",
       " '#feminism']"
      ]
     },
     "execution_count": 10,
     "metadata": {},
     "output_type": "execute_result"
    }
   ],
   "source": [
    "import os\n",
    "path = \"C:\\\\Users\\\\vinu1\\\\Personality_perception\\\\data\\\\Openess.txt\"\n",
    "with open(path) as file:\n",
    "    Openness_list = [line.rstrip() for line in file]"
   ]
  }
 ],
 "metadata": {
  "kernelspec": {
   "display_name": "Python 3 (ipykernel)",
   "language": "python",
   "name": "python3"
  },
  "language_info": {
   "codemirror_mode": {
    "name": "ipython",
    "version": 3
   },
   "file_extension": ".py",
   "mimetype": "text/x-python",
   "name": "python",
   "nbconvert_exporter": "python",
   "pygments_lexer": "ipython3",
   "version": "3.9.7"
  }
 },
 "nbformat": 4,
 "nbformat_minor": 5
}
